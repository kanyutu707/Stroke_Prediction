{
 "cells": [
  {
   "cell_type": "code",
   "execution_count": null,
   "metadata": {
    "pycharm": {
     "is_executing": true
    }
   },
   "outputs": [],
   "source": [
    "# importing libraries\n",
    "import numpy as np \n",
    "import pandas as pd \n",
    "import os\n",
    "import matplotlib.pyplot as plt\n",
    "plt.style.use('ggplot')\n",
    "import seaborn as sns\n",
    "import plotly.express as px\n",
    "import plotly.graph_objects as go\n",
    "from sklearn.model_selection import train_test_split\n",
    "from sklearn.preprocessing import StandardScaler\n",
    "from sklearn.ensemble import AdaBoostClassifier\n",
    "from sklearn.tree import DecisionTreeClassifier\n",
    "from sklearn.model_selection import cross_val_score\n",
    "from sklearn.linear_model import LogisticRegression\n",
    "from sklearn.ensemble import GradientBoostingClassifier\n",
    "from sklearn.svm import SVC\n",
    "from sklearn.ensemble import RandomForestClassifier\n",
    "from sklearn.ensemble import GradientBoostingClassifier\n",
    "from sklearn.neural_network import MLPClassifier\n",
    "from sklearn.metrics import accuracy_score\n",
    "from sklearn.metrics import confusion_matrix\n",
    "from sklearn.metrics import classification_report"
   ]
  },
  {
   "cell_type": "code",
   "execution_count": null,
   "metadata": {},
   "outputs": [],
   "source": [
    "# reading the data\n",
    "\n",
    "df=pd.read_csv('csv data path')\n",
    "df\n",
    "\n"
   ]
  },
  {
   "cell_type": "code",
   "execution_count": null,
   "metadata": {},
   "outputs": [],
   "source": [
    "df.info()"
   ]
  },
  {
   "cell_type": "code",
   "execution_count": null,
   "metadata": {},
   "outputs": [],
   "source": [
    "df.describe()"
   ]
  },
  {
   "cell_type": "code",
   "execution_count": null,
   "metadata": {},
   "outputs": [],
   "source": [
    "# variance feature distribution\n",
    "fig, axes = plt.subplots(nrows=2, ncols=2, figsize=(12, 10))\n",
    "df.plot(kind=\"hist\", y=\"age\", bins=70, color=\"b\", ax=axes[0][0])\n",
    "df.plot(kind=\"hist\", y=\"bmi\", bins=100, color=\"r\", ax=axes[0][1])\n",
    "df.plot(kind=\"hist\", y=\"heart_disease\", bins=6, color=\"g\", ax=axes[1][0])\n",
    "df.plot(kind=\"hist\", y=\"avg_glucose_level\", bins=100, color=\"orange\", ax=axes[1][1])\n",
    "plt.show()\n"
   ]
  },
  {
   "cell_type": "code",
   "execution_count": null,
   "metadata": {},
   "outputs": [],
   "source": [
    "# Data summary (Checking for mising values)\n",
    "print (\"Rows     : \" , df.shape[0])\n",
    "print (\"Columns  : \" , df.shape[1])\n",
    "print (\"\\nFeatures : \\n\" , df.columns.tolist())\n",
    "print (\"\\nMissing values :  \", df.isnull().sum().values.sum())\n",
    "print (\"\\nUnique values :  \\n\",df.nunique())"
   ]
  },
  {
   "cell_type": "code",
   "execution_count": null,
   "metadata": {},
   "outputs": [],
   "source": [
    "# Data visuaLization\n",
    "# stroke pie chart\n",
    "\n",
    "labels =df['stroke'].value_counts(sort = True).index\n",
    "sizes = df['stroke'].value_counts(sort = True)\n",
    "\n",
    "colors = [\"lightblue\",\"red\"]\n",
    "explode = (0.05,0) \n",
    " \n",
    "plt.figure(figsize=(7,7))\n",
    "plt.pie(sizes, explode=explode, labels=labels, colors=colors, autopct='%1.1f%%', shadow=True, startangle=90,)\n",
    "\n",
    "plt.title('Stroke')\n",
    "plt.show()\n",
    "\n"
   ]
  },
  {
   "cell_type": "code",
   "execution_count": null,
   "metadata": {},
   "outputs": [],
   "source": [
    "#Gender\n",
    "plt.figure(figsize=(10,5))\n",
    "sns.countplot(data=df,x='gender');"
   ]
  },
  {
   "cell_type": "code",
   "execution_count": null,
   "metadata": {},
   "outputs": [],
   "source": [
    "# correlation with average glucose level\n",
    "fig, axes = plt.subplots(nrows=1, ncols=2, figsize=(15, 5))\n",
    "df.plot(kind='scatter', x='age', y='avg_glucose_level', alpha=0.5, color='green', ax=axes[0], title=\"Age vs. avg_glucose_level\")\n",
    "df.plot(kind='scatter', x='bmi', y='avg_glucose_level', alpha=0.5, color='red', ax=axes[1], title=\"bmi vs. avg_glucose_level\")\n",
    "plt.show()"
   ]
  },
  {
   "cell_type": "code",
   "execution_count": null,
   "metadata": {},
   "outputs": [],
   "source": [
    "# Stoke or not pair Grid\n",
    "sns.set(style=\"ticks\");\n",
    "pal = [\"#FA5858\", \"#58D3F7\"]\n",
    "\n",
    "sns.pairplot(df, hue=\"stroke\", palette=pal);\n",
    "plt.title(\"stroke\");\n"
   ]
  },
  {
   "cell_type": "code",
   "execution_count": null,
   "metadata": {},
   "outputs": [],
   "source": [
    "# Heatmap correlation\n",
    "plt.figure(figsize=(15,7))\n",
    "sns.heatmap(df.corr(),annot=True);"
   ]
  },
  {
   "cell_type": "code",
   "execution_count": null,
   "metadata": {},
   "outputs": [],
   "source": [
    "# BMI Boxplot\n",
    "plt.figure(figsize=(10,7))\n",
    "sns.boxplot(data=df,x=df[\"bmi\"],color='green');"
   ]
  },
  {
   "cell_type": "code",
   "execution_count": null,
   "metadata": {},
   "outputs": [],
   "source": [
    "\n",
    "\n",
    "bmi_outliers=df.loc[df['bmi']>50]\n",
    "bmi_outliers['bmi'].shape\n",
    "\n"
   ]
  },
  {
   "cell_type": "code",
   "execution_count": null,
   "metadata": {},
   "outputs": [],
   "source": [
    "# mean with outliers \n",
    "print(bmi_outliers['stroke'].value_counts())"
   ]
  },
  {
   "cell_type": "code",
   "execution_count": null,
   "metadata": {},
   "outputs": [],
   "source": [
    "df[\"bmi\"] = df[\"bmi\"].apply(lambda x: 50 if x>50 else x)\n",
    "df[\"bmi\"] = df[\"bmi\"].fillna(28.4)\n"
   ]
  },
  {
   "cell_type": "code",
   "execution_count": null,
   "metadata": {},
   "outputs": [],
   "source": [
    "# Double check for missing values\n",
    "print (\"\\nMissing values :  \", df.isnull().sum().values.sum())"
   ]
  },
  {
   "cell_type": "code",
   "execution_count": null,
   "metadata": {},
   "outputs": [],
   "source": [
    "# stroke or not in categorical features\n",
    "cat_df = df[['gender','Residence_type','smoking_status','stroke']]\n",
    "summary = pd.concat([pd.crosstab(cat_df[x], cat_df.stroke) for x in cat_df.columns[:-1]], keys=cat_df.columns[:-1])\n",
    "summary"
   ]
  },
  {
   "cell_type": "code",
   "execution_count": null,
   "metadata": {},
   "outputs": [],
   "source": [
    "\n",
    "# stroke/Ever married\n",
    "plt.figure(figsize=(10,5))\n",
    "strok=df.loc[df['stroke']==1]\n",
    "sns.countplot(data=strok,x='ever_married',palette='inferno');\n",
    "\n"
   ]
  },
  {
   "cell_type": "code",
   "execution_count": null,
   "metadata": {},
   "outputs": [],
   "source": [
    "# stroke / work type\n",
    "plt.figure(figsize=(10,5))\n",
    "sns.countplot(data=strok,x='work_type',palette='cool');"
   ]
  },
  {
   "cell_type": "code",
   "execution_count": null,
   "metadata": {},
   "outputs": [],
   "source": [
    "# stroke/smoking status\n",
    "plt.figure(figsize=(10,5))\n",
    "sns.countplot(data=strok,x='smoking_status',palette='autumn');"
   ]
  },
  {
   "cell_type": "code",
   "execution_count": null,
   "metadata": {},
   "outputs": [],
   "source": [
    "# Residence Type\n",
    "\n",
    "plt.figure(figsize=(10,5))\n",
    "sns.countplot(data=strok,x='Residence_type',palette='Greens');\n",
    "\n"
   ]
  },
  {
   "cell_type": "code",
   "execution_count": null,
   "metadata": {},
   "outputs": [],
   "source": [
    "# Stroke/heart disease\n",
    "plt.figure(figsize=(10,5))\n",
    "sns.countplot(data=strok,x='heart_disease',palette='Reds');"
   ]
  },
  {
   "cell_type": "code",
   "execution_count": null,
   "metadata": {},
   "outputs": [],
   "source": [
    "# stroke / hypertension\n",
    "plt.figure(figsize=(10,5))\n",
    "sns.countplot(data=strok,x='hypertension',palette='Pastel2');"
   ]
  },
  {
   "cell_type": "code",
   "execution_count": null,
   "metadata": {},
   "outputs": [],
   "source": [
    "#DATA PREPROCESSING\n",
    "# ENCODING CARTEGORICAL FEATURES\n",
    "\n",
    "df[\"Residence_type\"] = df[\"Residence_type\"].apply(lambda x: 1 if x==\"Urban\" else 0)\n",
    "df[\"ever_married\"] = df[\"ever_married\"].apply(lambda x: 1 if x==\"Yes\" else 0)\n",
    "df[\"gender\"] = df[\"gender\"].apply(lambda x: 1 if x==\"Male\" else 0)\n",
    "\n",
    " \n",
    "df = pd.get_dummies(data=df, columns=['smoking_status'])\n",
    "df = pd.get_dummies(data=df, columns=['work_type'])"
   ]
  },
  {
   "cell_type": "code",
   "execution_count": null,
   "metadata": {},
   "outputs": [],
   "source": [
    "df"
   ]
  },
  {
   "cell_type": "code",
   "execution_count": null,
   "metadata": {},
   "outputs": [],
   "source": [
    "# SCALING THE VARIANCE IN FEATURES\n",
    "std=StandardScaler()\n",
    "columns = ['avg_glucose_level','bmi','age']\n",
    "scaled = std.fit_transform(df[['avg_glucose_level','bmi','age']])\n",
    "scaled = pd.DataFrame(scaled,columns=columns)\n",
    "df=df.drop(columns=columns,axis=1)\n"
   ]
  },
  {
   "cell_type": "code",
   "execution_count": null,
   "metadata": {},
   "outputs": [],
   "source": [
    "\n",
    "\n",
    "df=df.merge(scaled, left_index=True, right_index=True, how = \"left\")\n",
    "df\n",
    "\n"
   ]
  },
  {
   "cell_type": "code",
   "execution_count": null,
   "metadata": {},
   "outputs": [],
   "source": [
    "# DROP ID FEATURE AND CHECK FOR NULLS\n",
    "df=df.drop(columns='id',axis=1)"
   ]
  },
  {
   "cell_type": "code",
   "execution_count": null,
   "metadata": {},
   "outputs": [],
   "source": [
    "\n",
    "df[df.isnull().any(axis=1)]\n",
    "\n"
   ]
  },
  {
   "cell_type": "code",
   "execution_count": null,
   "metadata": {},
   "outputs": [],
   "source": [
    "# CLASSIFICATION MODELS\n",
    "# TARGET & FEATURES\n",
    "\n",
    "X = df.drop(['stroke'], axis=1).values \n",
    "y = df['stroke'].values"
   ]
  },
  {
   "cell_type": "code",
   "execution_count": null,
   "metadata": {},
   "outputs": [],
   "source": [
    "#SPLITTING\n",
    "\n",
    "X_train, X_test, y_train, y_test = train_test_split(X, y, test_size=0.3)\n",
    "\n"
   ]
  },
  {
   "cell_type": "code",
   "execution_count": null,
   "metadata": {},
   "outputs": [],
   "source": [
    "# ADABOOST CLASSIFICATION\n",
    "ab_clf = AdaBoostClassifier(base_estimator=DecisionTreeClassifier(), n_estimators=100, \n",
    "                            learning_rate=0.5, random_state=100)\n",
    "\n",
    "#training via adaboost classficiation model\n",
    "ab_clf.fit(X_train, y_train)\n",
    "print(\"training....\\n\")\n",
    "\n",
    "#make prediction using the test set\n",
    "ab_pred_stroke= ab_clf.predict(X_train)\n",
    "print('prediction: \\n', ab_pred_stroke)\n",
    "\n",
    "print('\\nparms: \\n', ab_clf.get_params)\n",
    "\n",
    "#score\n",
    "ab_clf_score = ab_clf.score(X_test, y_test)\n",
    "print(\"\\nmean accuracy: %.2f\" % ab_clf.score(X_test, y_test))"
   ]
  },
  {
   "cell_type": "code",
   "execution_count": null,
   "metadata": {},
   "outputs": [],
   "source": [
    "# XGBoost\n",
    "xgboost = GradientBoostingClassifier(random_state=0)\n",
    "xgboost.fit(X_train, y_train)\n",
    "#== \n",
    "#Score \n",
    "#== \n",
    "xgboost_score = xgboost.score(X_train, y_train)\n",
    "xgboost_test = xgboost.score(X_test, y_test)\n",
    "#== \n",
    "#testing model \n",
    "#== \n",
    "y_pred = xgboost.predict(X_test)\n",
    "#== \n",
    "#evaluation\n",
    "#== \n",
    "cm = confusion_matrix(y_test,y_pred)\n",
    "print('Training Score',xgboost_score)\n",
    "print('Testing Score \\n',xgboost_test)\n",
    "\n",
    "#=== \n",
    "#Confusion Matrix \n",
    "plt.figure(figsize=(14,5))\n",
    "\n",
    "conf_matrix = pd.DataFrame(data=cm,columns=['Predicted:0','Predicted:1'],index=['Actual:0','Actual:1'])\n",
    "sns.heatmap(conf_matrix, annot=True,fmt='d',cmap=\"Greens\");\n",
    "print(accuracy_score(y_test,y_pred))"
   ]
  },
  {
   "cell_type": "code",
   "execution_count": null,
   "metadata": {},
   "outputs": [],
   "source": [
    "#SVM\n",
    "svc = SVC(random_state=0)\n",
    "svc.fit(X_train, y_train)\n",
    "#== \n",
    "#Score \n",
    "#== \n",
    "svc_score = svc.score(X_train, y_train)\n",
    "svc_test = svc.score(X_test, y_test)\n",
    "#== \n",
    "#testing model \n",
    "#== \n",
    "y_pred = svc.predict(X_test)\n",
    "#== \n",
    "#evaluation\n",
    "#== \n",
    "cm = confusion_matrix(y_test,y_pred)\n",
    "print('Training Score',svc_score)\n",
    "print('Testing Score \\n',svc_test)\n",
    "print(cm)\n",
    "\n"
   ]
  },
  {
   "cell_type": "code",
   "execution_count": null,
   "metadata": {},
   "outputs": [],
   "source": [
    "# RANDOM FOREST CLASSIFIER\n",
    "forest = RandomForestClassifier(n_estimators = 100)\n",
    "#== \n",
    "forest.fit(X_train, y_train)\n",
    "#== \n",
    "#Score \n",
    "#== \n",
    "forest_score = forest.score(X_train, y_train)\n",
    "forest_test = forest.score(X_test, y_test)\n",
    "#== \n",
    "#testing model \n",
    "#== \n",
    "y_pred = forest.predict(X_test)\n",
    "#== \n",
    "#evaluation\n",
    "#== \n",
    "cm = confusion_matrix(y_test,y_pred)\n",
    "print('Training Score',forest_score)\n",
    "print('Testing Score \\n',forest_test)\n",
    "print(cm)"
   ]
  },
  {
   "cell_type": "code",
   "execution_count": null,
   "metadata": {},
   "outputs": [],
   "source": [
    "# LOGISTIC REGRESSION\n",
    "model = LogisticRegression()\n",
    "model.fit(X_train, y_train)\n",
    "\n",
    "score = model.score(X_test, y_test)\n",
    "print('Testing Score \\n',score)\n",
    "logistic_score = model.score(X_train, y_train)\n",
    "logistic_test = model.score(X_test, y_test)\n",
    "#== \n",
    "y_pred= model.predict(X_test)\n",
    "print(classification_report(y_test, y_pred))\n",
    "#== \n",
    "cm = confusion_matrix(y_test,y_pred)\n",
    "print(cm)"
   ]
  },
  {
   "cell_type": "code",
   "execution_count": null,
   "metadata": {},
   "outputs": [],
   "source": [
    "# FEATURE IMPORTANCE USING LOGISTIC REGRESSION\n",
    "coef = model.coef_[0]\n",
    "coef = [abs(number) for number in coef]\n",
    "print(coef)\n"
   ]
  },
  {
   "cell_type": "code",
   "execution_count": null,
   "metadata": {},
   "outputs": [],
   "source": [
    "cols = list(df.columns)\n",
    "cols.index('stroke')\n",
    "#== \n",
    "#Delete target label \n",
    "#== \n",
    "del cols[5]\n",
    "cols\n"
   ]
  },
  {
   "cell_type": "code",
   "execution_count": null,
   "metadata": {},
   "outputs": [],
   "source": [
    "sorted_index = sorted(range(len(coef)), key = lambda k: coef[k], reverse = True)\n",
    "for idx in sorted_index:\n",
    "    print(cols[idx])\n"
   ]
  },
  {
   "cell_type": "code",
   "execution_count": null,
   "metadata": {},
   "outputs": [],
   "source": [
    "#MLP NN CLASSIFIER\n",
    "X = df.drop(['stroke','gender','bmi','Residence_type','work_type_Never_worked','smoking_status_Unknown'], axis=1).values \n",
    "#X = df.drop(['stroke','bmi'], axis=1).values \n",
    "y = df['stroke'].values\n",
    "X_train, X_test, y_train, y_test = train_test_split(X, y, test_size=0.3)"
   ]
  },
  {
   "cell_type": "code",
   "execution_count": null,
   "metadata": {},
   "outputs": [],
   "source": [
    "# mlp = MLPClassifier(hidden_layer_sizes=(1000,300, 300, 300), solver='adam', shuffle=False, tol = 0.0001)\n",
    "mlp=MLPClassifier(hidden_layer_sizes=(300,300,300), max_iter=1000, alpha=0.00001,\n",
    "                     solver='adam', verbose=10,  random_state=21)\n",
    "mlp.fit(X_train, y_train)\n",
    "mlp_pred= mlp.predict(X_test)\n",
    "\n",
    "mlp_score = mlp.score(X_train, y_train)\n",
    "mlp_test = mlp.score(X_test, y_test)\n",
    "\n",
    "\n",
    "y_pred =mlp.predict(X_test)\n",
    "#== \n",
    "#evaluation\n",
    "#== \n",
    "cm = confusion_matrix(y_test,y_pred)\n",
    "print('Training Score',mlp_score)\n",
    "print('Testing Score \\n',mlp_test)\n",
    "print(cm)"
   ]
  },
  {
   "cell_type": "code",
   "execution_count": null,
   "metadata": {},
   "outputs": [],
   "source": [
    "plt.figure(figsize=(14,5))\n",
    "cm = confusion_matrix(y_test,y_pred)\n",
    "conf_matrix = pd.DataFrame(data=cm,columns=['Predicted:0','Predicted:1'],index=['Actual:0','Actual:1'])\n",
    "sns.heatmap(conf_matrix, annot=True,fmt='d',cmap=\"Reds\");"
   ]
  },
  {
   "cell_type": "code",
   "execution_count": null,
   "metadata": {},
   "outputs": [],
   "source": [
    "TN=cm[0,0]\n",
    "TP=cm[1,1]\n",
    "FN=cm[1,0]\n",
    "FP=cm[0,1]\n",
    "sensitivity=TP/float(TP+FN)\n",
    "specificity=TN/float(TN+FP)"
   ]
  },
  {
   "cell_type": "code",
   "execution_count": null,
   "metadata": {},
   "outputs": [],
   "source": [
    "print('The acuuracy of the model = TP+TN/(TP+TN+FP+FN) =       ',(TP+TN)/float(TP+TN+FP+FN),'\\n',\n",
    "\n",
    "'The Missclassification = 1-Accuracy =                  ',1-((TP+TN)/float(TP+TN+FP+FN)),'\\n',\n",
    "\n",
    "'Sensitivity or True Positive Rate = TP/(TP+FN) =       ',TP/float(TP+FN),'\\n',\n",
    "\n",
    "'Specificity or True Negative Rate = TN/(TN+FP) =       ',TN/float(TN+FP),'\\n')"
   ]
  },
  {
   "cell_type": "code",
   "execution_count": null,
   "metadata": {},
   "outputs": [],
   "source": []
  }
 ],
 "metadata": {
  "kernelspec": {
   "display_name": "Python 3 (ipykernel)",
   "language": "python",
   "name": "python3"
  },
  "language_info": {
   "codemirror_mode": {
    "name": "ipython",
    "version": 3
   },
   "file_extension": ".py",
   "mimetype": "text/x-python",
   "name": "python",
   "nbconvert_exporter": "python",
   "pygments_lexer": "ipython3",
   "version": "3.11.7"
  },
  "vscode": {
   "interpreter": {
    "hash": "767d51c1340bd893661ea55ea3124f6de3c7a262a8b4abca0554b478b1e2ff90"
   }
  }
 },
 "nbformat": 4,
 "nbformat_minor": 4
}
